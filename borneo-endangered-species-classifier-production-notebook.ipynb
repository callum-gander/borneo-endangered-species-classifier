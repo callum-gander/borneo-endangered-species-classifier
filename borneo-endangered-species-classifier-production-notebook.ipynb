{
 "cells": [
  {
   "cell_type": "markdown",
   "metadata": {},
   "source": [
    "# Borneo Endangered Species Classifier\n",
    "\n",
    "This is the project I did for the fast.ai lesson 3 homework. This classifer will correct classify 3 critically endangered mammals native to the Borneo Rainforest: the Borneo Orangutan, the Eastern Sumatran Rhinoceros, and the Borneo pygmy elephant. Go ahead and give it a try! If you're interested about my process and the current limitations of this model, see below.\n"
   ]
  },
  {
   "cell_type": "code",
   "execution_count": 4,
   "metadata": {},
   "outputs": [],
   "source": [
    "from utils import *\n",
    "# from fastai2.vision.widgets import *\n",
    "from fastai2.vision.all import *"
   ]
  },
  {
   "cell_type": "code",
   "execution_count": 16,
   "metadata": {},
   "outputs": [],
   "source": [
    "path = Path()\n",
    "learn_inf = load_learner(path/'export.pkl')\n",
    "btn_upload = widgets.FileUpload()\n",
    "out_pl = widgets.Output()\n",
    "lbl_pred = widgets.Label()\n",
    "btn_run = widgets.Button(description='Classify')"
   ]
  },
  {
   "cell_type": "code",
   "execution_count": null,
   "metadata": {},
   "outputs": [],
   "source": [
    "def on_click_classify(change):\n",
    "    img = PILImage.create(btn_upload.data[-1])\n",
    "    out_pl.clear_output()\n",
    "    with out_pl: display(img.to_thumb(128,128))\n",
    "    pred,pred_idx,probs = learn_inf.predict(img)\n",
    "    lbl_pred.value = f'Prediction: {pred}; Probability: {probs[pred_idx]:.04f}'"
   ]
  },
  {
   "cell_type": "code",
   "execution_count": null,
   "metadata": {},
   "outputs": [],
   "source": [
    "btn_run.on_click(on_click_classify)"
   ]
  },
  {
   "cell_type": "code",
   "execution_count": null,
   "metadata": {},
   "outputs": [],
   "source": [
    "VBox([widgets.Label('Upload a photo to see if it contains an endangered animal on Borneo!'), \n",
    "      btn_upload, btn_run, out_pl, lbl_pred])"
   ]
  },
  {
   "cell_type": "markdown",
   "metadata": {},
   "source": [
    "### Turning Your Notebook into a Real App"
   ]
  },
  {
   "cell_type": "code",
   "execution_count": 15,
   "metadata": {},
   "outputs": [
    {
     "name": "stdout",
     "output_type": "stream",
     "text": [
      "Requirement already satisfied: voila in /opt/conda/envs/fastai/lib/python3.8/site-packages (0.1.22)\n",
      "Requirement already satisfied: nbconvert<6,>=5.5.0 in /opt/conda/envs/fastai/lib/python3.8/site-packages (from voila) (5.6.1)\n",
      "Requirement already satisfied: jupyterlab-pygments<0.2,>=0.1.0 in /opt/conda/envs/fastai/lib/python3.8/site-packages (from voila) (0.1.1)\n",
      "Requirement already satisfied: pygments<3,>=2.4.1 in /opt/conda/envs/fastai/lib/python3.8/site-packages (from voila) (2.6.1)\n",
      "Requirement already satisfied: async-generator in /opt/conda/envs/fastai/lib/python3.8/site-packages (from voila) (1.10)\n",
      "Requirement already satisfied: jupyter-server<0.2.0,>=0.1.0 in /opt/conda/envs/fastai/lib/python3.8/site-packages (from voila) (0.1.1)\n",
      "Requirement already satisfied: defusedxml in /opt/conda/envs/fastai/lib/python3.8/site-packages (from nbconvert<6,>=5.5.0->voila) (0.6.0)\n",
      "Requirement already satisfied: jupyter-core in /opt/conda/envs/fastai/lib/python3.8/site-packages (from nbconvert<6,>=5.5.0->voila) (4.6.3)\n",
      "Requirement already satisfied: entrypoints>=0.2.2 in /opt/conda/envs/fastai/lib/python3.8/site-packages (from nbconvert<6,>=5.5.0->voila) (0.3)\n",
      "Requirement already satisfied: mistune<2,>=0.8.1 in /opt/conda/envs/fastai/lib/python3.8/site-packages (from nbconvert<6,>=5.5.0->voila) (0.8.4)\n",
      "Requirement already satisfied: traitlets>=4.2 in /opt/conda/envs/fastai/lib/python3.8/site-packages (from nbconvert<6,>=5.5.0->voila) (4.3.3)\n",
      "Requirement already satisfied: testpath in /opt/conda/envs/fastai/lib/python3.8/site-packages (from nbconvert<6,>=5.5.0->voila) (0.4.4)\n",
      "Requirement already satisfied: nbformat>=4.4 in /opt/conda/envs/fastai/lib/python3.8/site-packages (from nbconvert<6,>=5.5.0->voila) (5.0.7)\n",
      "Requirement already satisfied: bleach in /opt/conda/envs/fastai/lib/python3.8/site-packages (from nbconvert<6,>=5.5.0->voila) (3.1.5)\n",
      "Requirement already satisfied: jinja2>=2.4 in /opt/conda/envs/fastai/lib/python3.8/site-packages (from nbconvert<6,>=5.5.0->voila) (2.11.2)\n",
      "Requirement already satisfied: pandocfilters>=1.4.1 in /opt/conda/envs/fastai/lib/python3.8/site-packages (from nbconvert<6,>=5.5.0->voila) (1.4.2)\n",
      "Requirement already satisfied: prometheus-client in /opt/conda/envs/fastai/lib/python3.8/site-packages (from jupyter-server<0.2.0,>=0.1.0->voila) (0.8.0)\n",
      "Requirement already satisfied: ipykernel in /opt/conda/envs/fastai/lib/python3.8/site-packages (from jupyter-server<0.2.0,>=0.1.0->voila) (5.3.4)\n",
      "Requirement already satisfied: jupyter-client>=5.3.1 in /opt/conda/envs/fastai/lib/python3.8/site-packages (from jupyter-server<0.2.0,>=0.1.0->voila) (6.1.6)\n",
      "Requirement already satisfied: ipython-genutils in /opt/conda/envs/fastai/lib/python3.8/site-packages (from jupyter-server<0.2.0,>=0.1.0->voila) (0.2.0)\n",
      "Requirement already satisfied: tornado>=4 in /opt/conda/envs/fastai/lib/python3.8/site-packages (from jupyter-server<0.2.0,>=0.1.0->voila) (6.0.4)\n",
      "Requirement already satisfied: Send2Trash in /opt/conda/envs/fastai/lib/python3.8/site-packages (from jupyter-server<0.2.0,>=0.1.0->voila) (1.5.0)\n",
      "Requirement already satisfied: pyzmq>=17 in /opt/conda/envs/fastai/lib/python3.8/site-packages (from jupyter-server<0.2.0,>=0.1.0->voila) (19.0.2)\n",
      "Requirement already satisfied: terminado>=0.8.1 in /opt/conda/envs/fastai/lib/python3.8/site-packages (from jupyter-server<0.2.0,>=0.1.0->voila) (0.8.3)\n",
      "Requirement already satisfied: six in /opt/conda/envs/fastai/lib/python3.8/site-packages (from traitlets>=4.2->nbconvert<6,>=5.5.0->voila) (1.15.0)\n",
      "Requirement already satisfied: decorator in /opt/conda/envs/fastai/lib/python3.8/site-packages (from traitlets>=4.2->nbconvert<6,>=5.5.0->voila) (4.4.2)\n",
      "Requirement already satisfied: jsonschema!=2.5.0,>=2.4 in /opt/conda/envs/fastai/lib/python3.8/site-packages (from nbformat>=4.4->nbconvert<6,>=5.5.0->voila) (3.2.0)\n",
      "Requirement already satisfied: packaging in /opt/conda/envs/fastai/lib/python3.8/site-packages (from bleach->nbconvert<6,>=5.5.0->voila) (20.4)\n",
      "Requirement already satisfied: webencodings in /opt/conda/envs/fastai/lib/python3.8/site-packages (from bleach->nbconvert<6,>=5.5.0->voila) (0.5.1)\n",
      "Requirement already satisfied: MarkupSafe>=0.23 in /opt/conda/envs/fastai/lib/python3.8/site-packages (from jinja2>=2.4->nbconvert<6,>=5.5.0->voila) (1.1.1)\n",
      "Requirement already satisfied: ipython>=5.0.0 in /opt/conda/envs/fastai/lib/python3.8/site-packages (from ipykernel->jupyter-server<0.2.0,>=0.1.0->voila) (7.17.0)\n",
      "Requirement already satisfied: python-dateutil>=2.1 in /opt/conda/envs/fastai/lib/python3.8/site-packages (from jupyter-client>=5.3.1->jupyter-server<0.2.0,>=0.1.0->voila) (2.8.1)\n",
      "Requirement already satisfied: attrs>=17.4.0 in /opt/conda/envs/fastai/lib/python3.8/site-packages (from jsonschema!=2.5.0,>=2.4->nbformat>=4.4->nbconvert<6,>=5.5.0->voila) (19.3.0)\n",
      "Requirement already satisfied: pyrsistent>=0.14.0 in /opt/conda/envs/fastai/lib/python3.8/site-packages (from jsonschema!=2.5.0,>=2.4->nbformat>=4.4->nbconvert<6,>=5.5.0->voila) (0.16.0)\n",
      "Requirement already satisfied: setuptools in /opt/conda/envs/fastai/lib/python3.8/site-packages (from jsonschema!=2.5.0,>=2.4->nbformat>=4.4->nbconvert<6,>=5.5.0->voila) (49.6.0.post20200814)\n",
      "Requirement already satisfied: pyparsing>=2.0.2 in /opt/conda/envs/fastai/lib/python3.8/site-packages (from packaging->bleach->nbconvert<6,>=5.5.0->voila) (2.4.7)\n",
      "Requirement already satisfied: backcall in /opt/conda/envs/fastai/lib/python3.8/site-packages (from ipython>=5.0.0->ipykernel->jupyter-server<0.2.0,>=0.1.0->voila) (0.2.0)\n",
      "Requirement already satisfied: jedi>=0.10 in /opt/conda/envs/fastai/lib/python3.8/site-packages (from ipython>=5.0.0->ipykernel->jupyter-server<0.2.0,>=0.1.0->voila) (0.17.2)\n",
      "Requirement already satisfied: pexpect; sys_platform != \"win32\" in /opt/conda/envs/fastai/lib/python3.8/site-packages (from ipython>=5.0.0->ipykernel->jupyter-server<0.2.0,>=0.1.0->voila) (4.8.0)\n",
      "Requirement already satisfied: prompt-toolkit!=3.0.0,!=3.0.1,<3.1.0,>=2.0.0 in /opt/conda/envs/fastai/lib/python3.8/site-packages (from ipython>=5.0.0->ipykernel->jupyter-server<0.2.0,>=0.1.0->voila) (3.0.6)\n",
      "Requirement already satisfied: pickleshare in /opt/conda/envs/fastai/lib/python3.8/site-packages (from ipython>=5.0.0->ipykernel->jupyter-server<0.2.0,>=0.1.0->voila) (0.7.5)\n",
      "Requirement already satisfied: parso<0.8.0,>=0.7.0 in /opt/conda/envs/fastai/lib/python3.8/site-packages (from jedi>=0.10->ipython>=5.0.0->ipykernel->jupyter-server<0.2.0,>=0.1.0->voila) (0.7.1)\n",
      "Requirement already satisfied: ptyprocess>=0.5 in /opt/conda/envs/fastai/lib/python3.8/site-packages (from pexpect; sys_platform != \"win32\"->ipython>=5.0.0->ipykernel->jupyter-server<0.2.0,>=0.1.0->voila) (0.6.0)\n",
      "Requirement already satisfied: wcwidth in /opt/conda/envs/fastai/lib/python3.8/site-packages (from prompt-toolkit!=3.0.0,!=3.0.1,<3.1.0,>=2.0.0->ipython>=5.0.0->ipykernel->jupyter-server<0.2.0,>=0.1.0->voila) (0.2.5)\n",
      "Enabling: voila\n",
      "- Writing config: /opt/conda/envs/fastai/etc/jupyter\n",
      "    - Validating...\n",
      "      voila 0.1.22 \u001b[32mOK\u001b[0m\n"
     ]
    }
   ],
   "source": [
    "#hide\n",
    "!pip install voila\n",
    "!jupyter serverextension enable voila --sys-prefix"
   ]
  },
  {
   "cell_type": "markdown",
   "metadata": {},
   "source": [
    "## Data\n",
    "\n",
    "The data consists of the three types of endangered large mammals we want to classify: the Borneo Orangutan, the Eastern Sumatran Rhinoceros, and the Borneo Pygmy Elephant. The fourth class, the borneo rainforest, is there as a sort of control. If this was used in production, presumably in photos that do not contain these animals a camera would be seeing the borneo rainforest. This is more a proof of concept than a production ready applications, the problems with the data will be discussed below.\n",
    "\n",
    "Note: an \"other animals\" category may be useful for preventing misclassification of other large mammals that live in the borneo rainforest as any of the endangered species"
   ]
  },
  {
   "cell_type": "markdown",
   "metadata": {},
   "source": [
    "## Conclusion and Further Research\n",
    "This model works exceptionally well (>99.9% accuracy), however, there are still obstacles to practical application and  additions/alternatives that may be better suited to this task. \n",
    "\n",
    "### Data issues and Further Research\n",
    "The data itself has some issues. All images were taken from Bing Image Search and as such aren't representive of the low resolution, differently lit photos that you would get from say placing raspberry pi's with cameras around the jungle. Most photos are stylised photos taken by professional photographers and many don't show the animals as they would appear in the jungle. Another issue is that they don't include many, if any, night time photos of the animals, which would mean that it would not identify the animals at night, however, this could be compensated by either building a dataset of these types of images or relying on other models, such as audio or heat based models at night. \n",
    "\n",
    "There are also problems related to the class composition of the dataset. Firstly, while it contains a control class of photos of the borneo rainforest, as mentioned above, that are likely unrepresentative of photos the cameras would take. Beyond this, a further control would be needed of \"other animals\", which would provide a class of many other animals in the borneo rainforest so that the model would not misclassify them as one of the three animals. Of course, you could add all of these animals as separate classes, but this would make the model more complex and likely distract from its ability to correctly identify those mammals that are most at risk. Secondly, further data point might be wise to add, that of poachers/loggers. As one of the main threats to these animals is both hunting and destruction of their environment by loggers, using the model to also track them would likely be incredibly helpful in keeping track of and alerting authorities of their presence\n",
    "\n",
    "Beyond these there are a number of additions/substitutions to the image based model that could augment it overall as well as provide alternatives to it in situations where it may not perform well. \n",
    "- Video-based model: adding a video based model so that when the image classifer detects one of the endangered animals it could switch to a live video feed. Alternatively, you could just stick to the image based model, that increases the number of images taken once an endangered animal is detected and sends notifications to local conservationists so they can track their location and behaviour or tag untagged animals\n",
    "- Audio-based model: adding a audio based model to complement or replace image based model. Build a dataset of the sounds of each animal (calls, movement sounds, etc.), convert the audio into images, use a CNN to classify them or use a RNN to just directly classify the sound. I'm not sure about the power costs of this\n",
    "- Heat-based model: adding a heat based model that uses an infrared camera to classify animals. Would like be helpful during night, however, there are many issues I'm unsure of\n"
   ]
  }
 ],
 "metadata": {
  "jupytext": {
   "split_at_heading": true
  },
  "kernelspec": {
   "display_name": "Python 3",
   "language": "python",
   "name": "python3"
  },
  "language_info": {
   "codemirror_mode": {
    "name": "ipython",
    "version": 3
   },
   "file_extension": ".py",
   "mimetype": "text/x-python",
   "name": "python",
   "nbconvert_exporter": "python",
   "pygments_lexer": "ipython3",
   "version": "3.8.5"
  }
 },
 "nbformat": 4,
 "nbformat_minor": 4
}
